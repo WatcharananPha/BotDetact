{
 "cells": [
  {
   "cell_type": "code",
   "execution_count": null,
   "metadata": {},
   "outputs": [
    {
     "name": "stdout",
     "output_type": "stream",
     "text": [
      "Recognized Text: สวัสดีครับ โทรมาจาก สภ อําเภอคลองหลวง\n"
     ]
    }
   ],
   "source": [
    "import azure.cognitiveservices.speech as speechsdk\n",
    "\n",
    "def speech_to_text(audio_file):\n",
    "    subscription_key = \"FKnTVDn6dNgyjJ5JtuSHKUylfwCFT5NOLIHTuIvABp7HDgia5PmFJQQJ99BCACYeBjFXJ3w3AAAAACOG8KSL\"\n",
    "    region = \"eastus\"\n",
    "    speech_config = speechsdk.SpeechConfig(subscription=subscription_key, region=region)\n",
    "    speech_config.speech_recognition_language = \"th-TH\"\n",
    "    \n",
    "    # Set maximum duration to 5 minutes (300 seconds)\n",
    "    MAX_DURATION = 300  # 5 minutes in seconds\n",
    "    done = False\n",
    "    all_text = []\n",
    "\n",
    "    def handle_result(evt):\n",
    "        if evt.result.text:\n",
    "            all_text.append(evt.result.text)\n",
    "\n",
    "    def stop_cb(evt):\n",
    "        nonlocal done\n",
    "        done = True\n",
    "\n",
    "    def canceled_cb(evt):\n",
    "        nonlocal done\n",
    "        done = True\n",
    "\n",
    "    audio_config = speechsdk.audio.AudioConfig(filename=audio_file)\n",
    "    speech_recognizer = speechsdk.SpeechRecognizer(speech_config=speech_config, audio_config=audio_config)\n",
    "\n",
    "    # Connect callbacks\n",
    "    speech_recognizer.recognized.connect(handle_result)\n",
    "    speech_recognizer.session_stopped.connect(stop_cb)\n",
    "    speech_recognizer.canceled.connect(canceled_cb)\n",
    "\n",
    "    # Start continuous recognition with timeout\n",
    "    speech_recognizer.start_continuous_recognition()\n",
    "    \n",
    "    import time\n",
    "    start_time = time.time()\n",
    "    \n",
    "    while not done and (time.time() - start_time) < MAX_DURATION:\n",
    "        time.sleep(0.5)\n",
    "    \n",
    "    speech_recognizer.stop_continuous_recognition()\n",
    "    \n",
    "    final_text = \" \".join(all_text)\n",
    "    if final_text:\n",
    "        return final_text\n",
    "    else:\n",
    "        return \"Speech recognition failed or no speech detected\""
   ]
  },
  {
   "cell_type": "code",
   "execution_count": 11,
   "metadata": {},
   "outputs": [
    {
     "name": "stdout",
     "output_type": "stream",
     "text": [
      "\n",
      "Scam Analysis Result:\n",
      "1. วลีหรือรูปแบบที่น่าสงสัย: \"โทรมาจาก สภ อําเภอคลองหลวง\"\n",
      "2. ระดับความเสี่ยง: กลาง\n",
      "3. ประเภทของการหลอกลวงที่อาจเกิดขึ้น: การหลอกลวงทางโทรศัพท์\n",
      "4. เหตุผลสำหรับการประเมิน: ข้อความดังกล่าวอาจเป็นการหลอกลวงเนื่องจากการใช้ชื่อสถานที่ราชการ เช่น \"สภ อําเภอคลองหลวง\" เพื่อสร้างความน่าเชื่อถือ แต่ไม่มีข้อมูลเพิ่มเติมเกี่ยวกับเหตุผลในการโทรศัพท์ หรือข้อมูลที่ชัดเจนเกี่ยวกับเรื่องที่ต้องการพูดคุย นอกจากนี้ การโทรศัพท์จากหน่วยงานราชการโดยตรงอาจมีการแจ้งให้ทราบล่วงหน้าหรือมีข้อมูลที่ชัดเจนมากขึ้น ดังนั้นจึงควรใช้ความระมัดระวังและตรวจสอบข้อมูลก่อนการตอบสนอง\n"
     ]
    }
   ],
   "source": [
    "from langchain.prompts import PromptTemplate\n",
    "from langchain_openai import ChatOpenAI\n",
    "\n",
    "def analyze_text_for_scam(text):\n",
    "    llm = ChatOpenAI(\n",
    "        openai_api_key=\"sk-GqA4Uj6iZXaykbOzIlFGtmdJr6VqiX94NhhjPZaf81kylRzh\",\n",
    "        openai_api_base=\"https://api.opentyphoon.ai/v1\",\n",
    "        model_name=\"typhoon-v2-70b-instruct\",\n",
    "    )\n",
    "    template = \"\"\"\n",
    "        วิเคราะห์ข้อความต่อไปนี้เพื่อหาสัญญาณที่อาจเป็นการหลอกลวง:\n",
    "        {text}\n",
    "\n",
    "        กรุณาระบุ:\n",
    "        1. วลีหรือรูปแบบที่น่าสงสัย\n",
    "        2. ระดับความเสี่ยง (ต่ำ/กลาง/สูง)\n",
    "        3. ประเภทของการหลอกลวงที่อาจเกิดขึ้น (ถ้ามี)\n",
    "        4. เหตุผลสำหรับการประเมิน\n",
    "\n",
    "        การตอบกลับ:\n",
    "    \"\"\"\n",
    "    \n",
    "    prompt = PromptTemplate(\n",
    "        input_variables=[\"text\"],\n",
    "        template=template\n",
    "    )\n",
    "    \n",
    "    chain = prompt | llm\n",
    "    response = chain.invoke({\"text\": text})\n",
    "    \n",
    "    return response.content\n",
    "\n",
    "speech_text = text\n",
    "analysis_result = analyze_text_for_scam(speech_text)\n",
    "print(\"\\nScam Analysis Result:\")\n",
    "print(analysis_result)"
   ]
  }
 ],
 "metadata": {
  "kernelspec": {
   "display_name": "Python 3",
   "language": "python",
   "name": "python3"
  },
  "language_info": {
   "codemirror_mode": {
    "name": "ipython",
    "version": 3
   },
   "file_extension": ".py",
   "mimetype": "text/x-python",
   "name": "python",
   "nbconvert_exporter": "python",
   "pygments_lexer": "ipython3",
   "version": "3.11.9"
  }
 },
 "nbformat": 4,
 "nbformat_minor": 2
}
