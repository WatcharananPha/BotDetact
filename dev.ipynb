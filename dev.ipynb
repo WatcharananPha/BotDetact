{
 "cells": [
  {
   "cell_type": "code",
   "execution_count": null,
   "metadata": {},
   "outputs": [
    {
     "ename": "NameError",
     "evalue": "name 'message_placeholder' is not defined",
     "output_type": "error",
     "traceback": [
      "\u001b[1;31m---------------------------------------------------------------------------\u001b[0m",
      "\u001b[1;31mNameError\u001b[0m                                 Traceback (most recent call last)",
      "Cell \u001b[1;32mIn[6], line 30\u001b[0m\n\u001b[0;32m     27\u001b[0m         \u001b[38;5;28mprint\u001b[39m(\u001b[38;5;124m\"\u001b[39m\u001b[38;5;124mSpeech recognition failed.\u001b[39m\u001b[38;5;124m\"\u001b[39m)\n\u001b[0;32m     28\u001b[0m         \u001b[38;5;28;01mreturn\u001b[39;00m \u001b[38;5;28;01mNone\u001b[39;00m\n\u001b[1;32m---> 30\u001b[0m text \u001b[38;5;241m=\u001b[39m speech_to_text_with_display(\u001b[38;5;124m\"\u001b[39m\u001b[38;5;124mถนนคลองหลวง 2.wav\u001b[39m\u001b[38;5;124m\"\u001b[39m, \u001b[43mmessage_placeholder\u001b[49m)\n",
      "\u001b[1;31mNameError\u001b[0m: name 'message_placeholder' is not defined"
     ]
    },
    {
     "ename": "",
     "evalue": "",
     "output_type": "error",
     "traceback": [
      "\u001b[1;31mThe Kernel crashed while executing code in the current cell or a previous cell. \n",
      "\u001b[1;31mPlease review the code in the cell(s) to identify a possible cause of the failure. \n",
      "\u001b[1;31mClick <a href='https://aka.ms/vscodeJupyterKernelCrash'>here</a> for more info. \n",
      "\u001b[1;31mView Jupyter <a href='command:jupyter.viewOutput'>log</a> for further details."
     ]
    }
   ],
   "source": [
    "import time\n",
    "import azure.cognitiveservices.speech as speechsdk\n",
    "\n",
    "def speech_to_text_with_display(audio_file, message_placeholder):\n",
    "    # Azure Speech Configuration\n",
    "    subscription_key = \"AZURE_SUBSCRIPTION_KEY\"\n",
    "    region = \"eastus\"\n",
    "    speech_config = speechsdk.SpeechConfig(subscription=subscription_key, region=region)\n",
    "    speech_config.speech_recognition_language = \"th-TH\"\n",
    "    audio_config = speechsdk.audio.AudioConfig(filename=audio_file)\n",
    "    \n",
    "    # Speech Recognition\n",
    "    speech_recognizer = speechsdk.SpeechRecognizer(speech_config=speech_config, audio_config=audio_config)\n",
    "    result = speech_recognizer.recognize_once()\n",
    "    \n",
    "    if result.reason == speechsdk.ResultReason.RecognizedSpeech:\n",
    "        recognized_text = result.text\n",
    "        print(\"Recognized Text:\", recognized_text)  # Optional console output\n",
    "        \n",
    "        # Gradually display the transcribed text\n",
    "        for i in range(len(recognized_text)):\n",
    "            message_placeholder.markdown(recognized_text[:i+1])  \n",
    "            time.sleep(0.02)  # Adjust speed of animation if needed\n",
    "\n",
    "        return recognized_text\n",
    "    else:\n",
    "        print(\"Speech recognition failed.\")\n",
    "        return None\n",
    "\n",
    "Example Usage:\n",
    "Assuming `message_placeholder` is an object that supports `.markdown()` for display\n",
    "text = speech_to_text_with_display(\"ถนนคลองหลวง 2.wav\", message_placeholder)\n"
   ]
  },
  {
   "cell_type": "code",
   "execution_count": null,
   "metadata": {},
   "outputs": [
    {
     "ename": "NameError",
     "evalue": "name 'text' is not defined",
     "output_type": "error",
     "traceback": [
      "\u001b[1;31m---------------------------------------------------------------------------\u001b[0m",
      "\u001b[1;31mNameError\u001b[0m                                 Traceback (most recent call last)",
      "Cell \u001b[1;32mIn[2], line 33\u001b[0m\n\u001b[0;32m     29\u001b[0m     response \u001b[38;5;241m=\u001b[39m chain\u001b[38;5;241m.\u001b[39minvoke({\u001b[38;5;124m\"\u001b[39m\u001b[38;5;124mtext\u001b[39m\u001b[38;5;124m\"\u001b[39m: text})\n\u001b[0;32m     31\u001b[0m     \u001b[38;5;28;01mreturn\u001b[39;00m response\u001b[38;5;241m.\u001b[39mcontent\n\u001b[1;32m---> 33\u001b[0m speech_text \u001b[38;5;241m=\u001b[39m \u001b[43mtext\u001b[49m\n\u001b[0;32m     34\u001b[0m analysis_result \u001b[38;5;241m=\u001b[39m analyze_text_for_scam(speech_text)\n\u001b[0;32m     35\u001b[0m \u001b[38;5;28mprint\u001b[39m(\u001b[38;5;124m\"\u001b[39m\u001b[38;5;130;01m\\n\u001b[39;00m\u001b[38;5;124mScam Analysis Result:\u001b[39m\u001b[38;5;124m\"\u001b[39m)\n",
      "\u001b[1;31mNameError\u001b[0m: name 'text' is not defined"
     ]
    }
   ],
   "source": [
    "from langchain.prompts import PromptTemplate\n",
    "from langchain_openai import ChatOpenAI\n",
    "\n",
    "def analyze_text_for_scam(text):\n",
    "    llm = ChatOpenAI(\n",
    "        openai_api_key=\"TYP3-API-KEY\",\n",
    "        openai_api_base=\"https://api.opentyphoon.ai/v1\",\n",
    "        model_name=\"typhoon-v2-70b-instruct\",\n",
    "    )\n",
    "    template = \"\"\"\n",
    "        วิเคราะห์ข้อความต่อไปนี้เพื่อหาสัญญาณที่อาจเป็นการหลอกลวง:\n",
    "        {text}\n",
    "\n",
    "        กรุณาระบุ:\n",
    "        1. วลีหรือรูปแบบที่น่าสงสัย\n",
    "        2. ระดับความเสี่ยง (ต่ำ/กลาง/สูง)\n",
    "        3. ประเภทของการหลอกลวงที่อาจเกิดขึ้น (ถ้ามี)\n",
    "        4. เหตุผลสำหรับการประเมิน\n",
    "\n",
    "        การตอบกลับ:\n",
    "    \"\"\"\n",
    "    \n",
    "    prompt = PromptTemplate(\n",
    "        input_variables=[\"text\"],\n",
    "        template=template\n",
    "    )\n",
    "    \n",
    "    chain = prompt | llm\n",
    "    response = chain.invoke({\"text\": text})\n",
    "    \n",
    "    return response.content\n",
    "\n",
    "speech_text = text\n",
    "analysis_result = analyze_text_for_scam(speech_text)\n",
    "print(\"\\nScam Analysis Result:\")\n",
    "print(analysis_result)"
   ]
  }
 ],
 "metadata": {
  "kernelspec": {
   "display_name": "Python 3",
   "language": "python",
   "name": "python3"
  },
  "language_info": {
   "codemirror_mode": {
    "name": "ipython",
    "version": 3
   },
   "file_extension": ".py",
   "mimetype": "text/x-python",
   "name": "python",
   "nbconvert_exporter": "python",
   "pygments_lexer": "ipython3",
   "version": "3.11.9"
  }
 },
 "nbformat": 4,
 "nbformat_minor": 2
}
